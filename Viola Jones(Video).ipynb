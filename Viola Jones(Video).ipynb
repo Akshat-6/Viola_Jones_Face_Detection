{
  "cells": [
    {
      "cell_type": "code",
      "execution_count": null,
      "id": "98aee6b7-8c49-4187-9090-5ea33551be78",
      "metadata": {
        "id": "98aee6b7-8c49-4187-9090-5ea33551be78"
      },
      "outputs": [],
      "source": [
        "import cv2\n",
        "import os\n",
        "\n",
        "# Load the pre-trained Haar Cascade classifier for face detection\n",
        "face_cascade = cv2.CascadeClassifier(cv2.data.haarcascades + 'haarcascade_frontalface_default.xml')\n",
        "\n",
        "# Open the video file\n",
        "video_capture = cv2.VideoCapture('Crowd.mp4')\n",
        "\n",
        "# Get video properties\n",
        "frame_width = int(video_capture.get(cv2.CAP_PROP_FRAME_WIDTH))\n",
        "frame_height = int(video_capture.get(cv2.CAP_PROP_FRAME_HEIGHT))\n",
        "fps = int(video_capture.get(cv2.CAP_PROP_FPS))\n",
        "\n",
        "# Check if video opened successfully\n",
        "if not video_capture.isOpened():\n",
        "    print(\"Error: Could not open video file.\")\n",
        "    exit()\n",
        "\n",
        "# Define the codec and create VideoWriter object\n",
        "output_path = os.path.expanduser('~/output_video.mp4')\n",
        "output_video = cv2.VideoWriter(output_path, cv2.VideoWriter_fourcc(*'mp4v'), fps, (frame_width, frame_height))\n",
        "\n",
        "while True:\n",
        "    # Read a frame from the video\n",
        "    ret, frame = video_capture.read()\n",
        "    if not ret:\n",
        "        break\n",
        "\n",
        "    # Convert frame to grayscale for better accuracy\n",
        "    gray = cv2.cvtColor(frame, cv2.COLOR_BGR2GRAY)\n",
        "\n",
        "    # Detect faces in the frame\n",
        "    faces = face_cascade.detectMultiScale(gray, scaleFactor=1.3, minNeighbors=5, minSize=(30, 30))\n",
        "\n",
        "    # Draw rectangles around detected faces\n",
        "    for (x, y, w, h) in faces:\n",
        "        cv2.rectangle(frame, (x, y), (x + w, y + h), (0, 255, 0), 2)\n",
        "\n",
        "    # Write the processed frame to the output video\n",
        "    output_video.write(frame)\n",
        "\n",
        "    # Display the video with detected faces\n",
        "    cv2.imshow('Face Detection', frame)\n",
        "\n",
        "    # Press 'q' to exit the video loop\n",
        "    if cv2.waitKey(1) & 0xFF == ord('q'):\n",
        "        break\n",
        "\n",
        "# Release resources\n",
        "video_capture.release()\n",
        "output_video.release()\n",
        "cv2.destroyAllWindows()\n",
        "print(f\"Output video saved at: {output_path}\")\n"
      ]
    },
    {
      "cell_type": "code",
      "execution_count": null,
      "id": "cd7aa03f-5d0e-4b45-a793-7ca2290cf724",
      "metadata": {
        "id": "cd7aa03f-5d0e-4b45-a793-7ca2290cf724"
      },
      "outputs": [],
      "source": []
    }
  ],
  "metadata": {
    "kernelspec": {
      "display_name": "Python 3 (ipykernel)",
      "language": "python",
      "name": "python3"
    },
    "language_info": {
      "codemirror_mode": {
        "name": "ipython",
        "version": 3
      },
      "file_extension": ".py",
      "mimetype": "text/x-python",
      "name": "python",
      "nbconvert_exporter": "python",
      "pygments_lexer": "ipython3",
      "version": "3.12.4"
    },
    "colab": {
      "provenance": []
    }
  },
  "nbformat": 4,
  "nbformat_minor": 5
}